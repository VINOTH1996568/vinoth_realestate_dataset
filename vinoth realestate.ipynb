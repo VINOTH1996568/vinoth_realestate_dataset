{
 "cells": [
  {
   "cell_type": "code",
   "execution_count": 1,
   "id": "ee17d98f",
   "metadata": {},
   "outputs": [],
   "source": [
    "import numpy as np\n",
    "import pandas as pd\n",
    "import seaborn as sns\n",
    "import matplotlib.pyplot as plt\n",
    "import warnings\n",
    "warnings.filterwarnings(\"ignore\")"
   ]
  },
  {
   "cell_type": "code",
   "execution_count": 2,
   "id": "3d3dfb42",
   "metadata": {},
   "outputs": [],
   "source": [
    "df=pd.read_csv(\"Real_estates.csv\")"
   ]
  },
  {
   "cell_type": "code",
   "execution_count": 3,
   "id": "450c09e6",
   "metadata": {},
   "outputs": [
    {
     "data": {
      "text/html": [
       "<div>\n",
       "<style scoped>\n",
       "    .dataframe tbody tr th:only-of-type {\n",
       "        vertical-align: middle;\n",
       "    }\n",
       "\n",
       "    .dataframe tbody tr th {\n",
       "        vertical-align: top;\n",
       "    }\n",
       "\n",
       "    .dataframe thead th {\n",
       "        text-align: right;\n",
       "    }\n",
       "</style>\n",
       "<table border=\"1\" class=\"dataframe\">\n",
       "  <thead>\n",
       "    <tr style=\"text-align: right;\">\n",
       "      <th></th>\n",
       "      <th>Avg. Area Income</th>\n",
       "      <th>Avg. Area House Age</th>\n",
       "      <th>Avg. Area Number of Rooms</th>\n",
       "      <th>Avg. Area Number of Bedrooms</th>\n",
       "      <th>Area Population</th>\n",
       "      <th>Price</th>\n",
       "      <th>Address</th>\n",
       "    </tr>\n",
       "  </thead>\n",
       "  <tbody>\n",
       "    <tr>\n",
       "      <th>0</th>\n",
       "      <td>79545.458574</td>\n",
       "      <td>5.682861</td>\n",
       "      <td>7.009188</td>\n",
       "      <td>4.09</td>\n",
       "      <td>23086.800503</td>\n",
       "      <td>1.059034e+06</td>\n",
       "      <td>208 Michael Ferry Apt. 674\\nLaurabury, NE 3701...</td>\n",
       "    </tr>\n",
       "    <tr>\n",
       "      <th>1</th>\n",
       "      <td>79248.642455</td>\n",
       "      <td>6.002900</td>\n",
       "      <td>6.730821</td>\n",
       "      <td>3.09</td>\n",
       "      <td>40173.072174</td>\n",
       "      <td>1.505891e+06</td>\n",
       "      <td>188 Johnson Views Suite 079\\nLake Kathleen, CA...</td>\n",
       "    </tr>\n",
       "    <tr>\n",
       "      <th>2</th>\n",
       "      <td>61287.067179</td>\n",
       "      <td>5.865890</td>\n",
       "      <td>8.512727</td>\n",
       "      <td>5.13</td>\n",
       "      <td>36882.159400</td>\n",
       "      <td>1.058988e+06</td>\n",
       "      <td>9127 Elizabeth Stravenue\\nDanieltown, WI 06482...</td>\n",
       "    </tr>\n",
       "    <tr>\n",
       "      <th>3</th>\n",
       "      <td>63345.240046</td>\n",
       "      <td>7.188236</td>\n",
       "      <td>5.586729</td>\n",
       "      <td>3.26</td>\n",
       "      <td>34310.242831</td>\n",
       "      <td>1.260617e+06</td>\n",
       "      <td>USS Barnett\\nFPO AP 44820</td>\n",
       "    </tr>\n",
       "    <tr>\n",
       "      <th>4</th>\n",
       "      <td>59982.197226</td>\n",
       "      <td>5.040555</td>\n",
       "      <td>7.839388</td>\n",
       "      <td>4.23</td>\n",
       "      <td>26354.109472</td>\n",
       "      <td>6.309435e+05</td>\n",
       "      <td>USNS Raymond\\nFPO AE 09386</td>\n",
       "    </tr>\n",
       "    <tr>\n",
       "      <th>...</th>\n",
       "      <td>...</td>\n",
       "      <td>...</td>\n",
       "      <td>...</td>\n",
       "      <td>...</td>\n",
       "      <td>...</td>\n",
       "      <td>...</td>\n",
       "      <td>...</td>\n",
       "    </tr>\n",
       "    <tr>\n",
       "      <th>4995</th>\n",
       "      <td>60567.944140</td>\n",
       "      <td>7.830362</td>\n",
       "      <td>6.137356</td>\n",
       "      <td>3.46</td>\n",
       "      <td>22837.361035</td>\n",
       "      <td>1.060194e+06</td>\n",
       "      <td>USNS Williams\\nFPO AP 30153-7653</td>\n",
       "    </tr>\n",
       "    <tr>\n",
       "      <th>4996</th>\n",
       "      <td>78491.275435</td>\n",
       "      <td>6.999135</td>\n",
       "      <td>6.576763</td>\n",
       "      <td>4.02</td>\n",
       "      <td>25616.115489</td>\n",
       "      <td>1.482618e+06</td>\n",
       "      <td>PSC 9258, Box 8489\\nAPO AA 42991-3352</td>\n",
       "    </tr>\n",
       "    <tr>\n",
       "      <th>4997</th>\n",
       "      <td>63390.686886</td>\n",
       "      <td>7.250591</td>\n",
       "      <td>4.805081</td>\n",
       "      <td>2.13</td>\n",
       "      <td>33266.145490</td>\n",
       "      <td>1.030730e+06</td>\n",
       "      <td>4215 Tracy Garden Suite 076\\nJoshualand, VA 01...</td>\n",
       "    </tr>\n",
       "    <tr>\n",
       "      <th>4998</th>\n",
       "      <td>68001.331235</td>\n",
       "      <td>5.534388</td>\n",
       "      <td>7.130144</td>\n",
       "      <td>5.44</td>\n",
       "      <td>42625.620156</td>\n",
       "      <td>1.198657e+06</td>\n",
       "      <td>USS Wallace\\nFPO AE 73316</td>\n",
       "    </tr>\n",
       "    <tr>\n",
       "      <th>4999</th>\n",
       "      <td>65510.581804</td>\n",
       "      <td>5.992305</td>\n",
       "      <td>6.792336</td>\n",
       "      <td>4.07</td>\n",
       "      <td>46501.283803</td>\n",
       "      <td>1.298950e+06</td>\n",
       "      <td>37778 George Ridges Apt. 509\\nEast Holly, NV 2...</td>\n",
       "    </tr>\n",
       "  </tbody>\n",
       "</table>\n",
       "<p>5000 rows × 7 columns</p>\n",
       "</div>"
      ],
      "text/plain": [
       "      Avg. Area Income  Avg. Area House Age  Avg. Area Number of Rooms  \\\n",
       "0         79545.458574             5.682861                   7.009188   \n",
       "1         79248.642455             6.002900                   6.730821   \n",
       "2         61287.067179             5.865890                   8.512727   \n",
       "3         63345.240046             7.188236                   5.586729   \n",
       "4         59982.197226             5.040555                   7.839388   \n",
       "...                ...                  ...                        ...   \n",
       "4995      60567.944140             7.830362                   6.137356   \n",
       "4996      78491.275435             6.999135                   6.576763   \n",
       "4997      63390.686886             7.250591                   4.805081   \n",
       "4998      68001.331235             5.534388                   7.130144   \n",
       "4999      65510.581804             5.992305                   6.792336   \n",
       "\n",
       "      Avg. Area Number of Bedrooms  Area Population         Price  \\\n",
       "0                             4.09     23086.800503  1.059034e+06   \n",
       "1                             3.09     40173.072174  1.505891e+06   \n",
       "2                             5.13     36882.159400  1.058988e+06   \n",
       "3                             3.26     34310.242831  1.260617e+06   \n",
       "4                             4.23     26354.109472  6.309435e+05   \n",
       "...                            ...              ...           ...   \n",
       "4995                          3.46     22837.361035  1.060194e+06   \n",
       "4996                          4.02     25616.115489  1.482618e+06   \n",
       "4997                          2.13     33266.145490  1.030730e+06   \n",
       "4998                          5.44     42625.620156  1.198657e+06   \n",
       "4999                          4.07     46501.283803  1.298950e+06   \n",
       "\n",
       "                                                Address  \n",
       "0     208 Michael Ferry Apt. 674\\nLaurabury, NE 3701...  \n",
       "1     188 Johnson Views Suite 079\\nLake Kathleen, CA...  \n",
       "2     9127 Elizabeth Stravenue\\nDanieltown, WI 06482...  \n",
       "3                             USS Barnett\\nFPO AP 44820  \n",
       "4                            USNS Raymond\\nFPO AE 09386  \n",
       "...                                                 ...  \n",
       "4995                   USNS Williams\\nFPO AP 30153-7653  \n",
       "4996              PSC 9258, Box 8489\\nAPO AA 42991-3352  \n",
       "4997  4215 Tracy Garden Suite 076\\nJoshualand, VA 01...  \n",
       "4998                          USS Wallace\\nFPO AE 73316  \n",
       "4999  37778 George Ridges Apt. 509\\nEast Holly, NV 2...  \n",
       "\n",
       "[5000 rows x 7 columns]"
      ]
     },
     "execution_count": 3,
     "metadata": {},
     "output_type": "execute_result"
    }
   ],
   "source": [
    "df"
   ]
  },
  {
   "cell_type": "code",
   "execution_count": 4,
   "id": "b59ff7d3",
   "metadata": {},
   "outputs": [
    {
     "name": "stdout",
     "output_type": "stream",
     "text": [
      "<class 'pandas.core.frame.DataFrame'>\n",
      "RangeIndex: 5000 entries, 0 to 4999\n",
      "Data columns (total 7 columns):\n",
      " #   Column                        Non-Null Count  Dtype  \n",
      "---  ------                        --------------  -----  \n",
      " 0   Avg. Area Income              5000 non-null   float64\n",
      " 1   Avg. Area House Age           5000 non-null   float64\n",
      " 2   Avg. Area Number of Rooms     5000 non-null   float64\n",
      " 3   Avg. Area Number of Bedrooms  5000 non-null   float64\n",
      " 4   Area Population               5000 non-null   float64\n",
      " 5   Price                         5000 non-null   float64\n",
      " 6   Address                       5000 non-null   object \n",
      "dtypes: float64(6), object(1)\n",
      "memory usage: 273.6+ KB\n"
     ]
    }
   ],
   "source": [
    "df.info()"
   ]
  },
  {
   "cell_type": "code",
   "execution_count": 5,
   "id": "f209b4ad",
   "metadata": {},
   "outputs": [
    {
     "data": {
      "text/plain": [
       "Avg. Area Income                0\n",
       "Avg. Area House Age             0\n",
       "Avg. Area Number of Rooms       0\n",
       "Avg. Area Number of Bedrooms    0\n",
       "Area Population                 0\n",
       "Price                           0\n",
       "Address                         0\n",
       "dtype: int64"
      ]
     },
     "execution_count": 5,
     "metadata": {},
     "output_type": "execute_result"
    }
   ],
   "source": [
    "df.isna().sum()"
   ]
  },
  {
   "cell_type": "code",
   "execution_count": 6,
   "id": "9f0f4286",
   "metadata": {},
   "outputs": [
    {
     "data": {
      "text/plain": [
       "<bound method IndexOpsMixin.value_counts of 0       79545.458574\n",
       "1       79248.642455\n",
       "2       61287.067179\n",
       "3       63345.240046\n",
       "4       59982.197226\n",
       "            ...     \n",
       "4995    60567.944140\n",
       "4996    78491.275435\n",
       "4997    63390.686886\n",
       "4998    68001.331235\n",
       "4999    65510.581804\n",
       "Name: Avg. Area Income, Length: 5000, dtype: float64>"
      ]
     },
     "execution_count": 6,
     "metadata": {},
     "output_type": "execute_result"
    }
   ],
   "source": [
    "df[\"Avg. Area Income\"].value_counts"
   ]
  },
  {
   "cell_type": "code",
   "execution_count": 7,
   "id": "3d944236",
   "metadata": {},
   "outputs": [
    {
     "data": {
      "text/plain": [
       "<bound method IndexOpsMixin.value_counts of 0       5.682861\n",
       "1       6.002900\n",
       "2       5.865890\n",
       "3       7.188236\n",
       "4       5.040555\n",
       "          ...   \n",
       "4995    7.830362\n",
       "4996    6.999135\n",
       "4997    7.250591\n",
       "4998    5.534388\n",
       "4999    5.992305\n",
       "Name: Avg. Area House Age, Length: 5000, dtype: float64>"
      ]
     },
     "execution_count": 7,
     "metadata": {},
     "output_type": "execute_result"
    }
   ],
   "source": [
    "df[\"Avg. Area House Age\"].value_counts"
   ]
  },
  {
   "cell_type": "code",
   "execution_count": 8,
   "id": "69281ba0",
   "metadata": {},
   "outputs": [
    {
     "data": {
      "text/plain": [
       "Index(['Avg. Area Income', 'Avg. Area House Age', 'Avg. Area Number of Rooms',\n",
       "       'Avg. Area Number of Bedrooms', 'Area Population', 'Price', 'Address'],\n",
       "      dtype='object')"
      ]
     },
     "execution_count": 8,
     "metadata": {},
     "output_type": "execute_result"
    }
   ],
   "source": [
    "df.columns"
   ]
  },
  {
   "cell_type": "code",
   "execution_count": 9,
   "id": "2f98cada",
   "metadata": {},
   "outputs": [],
   "source": [
    "features = df.iloc[:,:-2]"
   ]
  },
  {
   "cell_type": "code",
   "execution_count": 10,
   "id": "9a0efce8",
   "metadata": {},
   "outputs": [
    {
     "data": {
      "text/html": [
       "<div>\n",
       "<style scoped>\n",
       "    .dataframe tbody tr th:only-of-type {\n",
       "        vertical-align: middle;\n",
       "    }\n",
       "\n",
       "    .dataframe tbody tr th {\n",
       "        vertical-align: top;\n",
       "    }\n",
       "\n",
       "    .dataframe thead th {\n",
       "        text-align: right;\n",
       "    }\n",
       "</style>\n",
       "<table border=\"1\" class=\"dataframe\">\n",
       "  <thead>\n",
       "    <tr style=\"text-align: right;\">\n",
       "      <th></th>\n",
       "      <th>Avg. Area Income</th>\n",
       "      <th>Avg. Area House Age</th>\n",
       "      <th>Avg. Area Number of Rooms</th>\n",
       "      <th>Avg. Area Number of Bedrooms</th>\n",
       "      <th>Area Population</th>\n",
       "    </tr>\n",
       "  </thead>\n",
       "  <tbody>\n",
       "    <tr>\n",
       "      <th>0</th>\n",
       "      <td>79545.458574</td>\n",
       "      <td>5.682861</td>\n",
       "      <td>7.009188</td>\n",
       "      <td>4.09</td>\n",
       "      <td>23086.800503</td>\n",
       "    </tr>\n",
       "    <tr>\n",
       "      <th>1</th>\n",
       "      <td>79248.642455</td>\n",
       "      <td>6.002900</td>\n",
       "      <td>6.730821</td>\n",
       "      <td>3.09</td>\n",
       "      <td>40173.072174</td>\n",
       "    </tr>\n",
       "    <tr>\n",
       "      <th>2</th>\n",
       "      <td>61287.067179</td>\n",
       "      <td>5.865890</td>\n",
       "      <td>8.512727</td>\n",
       "      <td>5.13</td>\n",
       "      <td>36882.159400</td>\n",
       "    </tr>\n",
       "    <tr>\n",
       "      <th>3</th>\n",
       "      <td>63345.240046</td>\n",
       "      <td>7.188236</td>\n",
       "      <td>5.586729</td>\n",
       "      <td>3.26</td>\n",
       "      <td>34310.242831</td>\n",
       "    </tr>\n",
       "    <tr>\n",
       "      <th>4</th>\n",
       "      <td>59982.197226</td>\n",
       "      <td>5.040555</td>\n",
       "      <td>7.839388</td>\n",
       "      <td>4.23</td>\n",
       "      <td>26354.109472</td>\n",
       "    </tr>\n",
       "    <tr>\n",
       "      <th>...</th>\n",
       "      <td>...</td>\n",
       "      <td>...</td>\n",
       "      <td>...</td>\n",
       "      <td>...</td>\n",
       "      <td>...</td>\n",
       "    </tr>\n",
       "    <tr>\n",
       "      <th>4995</th>\n",
       "      <td>60567.944140</td>\n",
       "      <td>7.830362</td>\n",
       "      <td>6.137356</td>\n",
       "      <td>3.46</td>\n",
       "      <td>22837.361035</td>\n",
       "    </tr>\n",
       "    <tr>\n",
       "      <th>4996</th>\n",
       "      <td>78491.275435</td>\n",
       "      <td>6.999135</td>\n",
       "      <td>6.576763</td>\n",
       "      <td>4.02</td>\n",
       "      <td>25616.115489</td>\n",
       "    </tr>\n",
       "    <tr>\n",
       "      <th>4997</th>\n",
       "      <td>63390.686886</td>\n",
       "      <td>7.250591</td>\n",
       "      <td>4.805081</td>\n",
       "      <td>2.13</td>\n",
       "      <td>33266.145490</td>\n",
       "    </tr>\n",
       "    <tr>\n",
       "      <th>4998</th>\n",
       "      <td>68001.331235</td>\n",
       "      <td>5.534388</td>\n",
       "      <td>7.130144</td>\n",
       "      <td>5.44</td>\n",
       "      <td>42625.620156</td>\n",
       "    </tr>\n",
       "    <tr>\n",
       "      <th>4999</th>\n",
       "      <td>65510.581804</td>\n",
       "      <td>5.992305</td>\n",
       "      <td>6.792336</td>\n",
       "      <td>4.07</td>\n",
       "      <td>46501.283803</td>\n",
       "    </tr>\n",
       "  </tbody>\n",
       "</table>\n",
       "<p>5000 rows × 5 columns</p>\n",
       "</div>"
      ],
      "text/plain": [
       "      Avg. Area Income  Avg. Area House Age  Avg. Area Number of Rooms  \\\n",
       "0         79545.458574             5.682861                   7.009188   \n",
       "1         79248.642455             6.002900                   6.730821   \n",
       "2         61287.067179             5.865890                   8.512727   \n",
       "3         63345.240046             7.188236                   5.586729   \n",
       "4         59982.197226             5.040555                   7.839388   \n",
       "...                ...                  ...                        ...   \n",
       "4995      60567.944140             7.830362                   6.137356   \n",
       "4996      78491.275435             6.999135                   6.576763   \n",
       "4997      63390.686886             7.250591                   4.805081   \n",
       "4998      68001.331235             5.534388                   7.130144   \n",
       "4999      65510.581804             5.992305                   6.792336   \n",
       "\n",
       "      Avg. Area Number of Bedrooms  Area Population  \n",
       "0                             4.09     23086.800503  \n",
       "1                             3.09     40173.072174  \n",
       "2                             5.13     36882.159400  \n",
       "3                             3.26     34310.242831  \n",
       "4                             4.23     26354.109472  \n",
       "...                            ...              ...  \n",
       "4995                          3.46     22837.361035  \n",
       "4996                          4.02     25616.115489  \n",
       "4997                          2.13     33266.145490  \n",
       "4998                          5.44     42625.620156  \n",
       "4999                          4.07     46501.283803  \n",
       "\n",
       "[5000 rows x 5 columns]"
      ]
     },
     "execution_count": 10,
     "metadata": {},
     "output_type": "execute_result"
    }
   ],
   "source": [
    "features"
   ]
  },
  {
   "cell_type": "code",
   "execution_count": 11,
   "id": "6dd53aba",
   "metadata": {},
   "outputs": [],
   "source": [
    "target = df.iloc[:,-2]"
   ]
  },
  {
   "cell_type": "code",
   "execution_count": 12,
   "id": "ca42119a",
   "metadata": {},
   "outputs": [
    {
     "data": {
      "text/plain": [
       "0       1.059034e+06\n",
       "1       1.505891e+06\n",
       "2       1.058988e+06\n",
       "3       1.260617e+06\n",
       "4       6.309435e+05\n",
       "            ...     \n",
       "4995    1.060194e+06\n",
       "4996    1.482618e+06\n",
       "4997    1.030730e+06\n",
       "4998    1.198657e+06\n",
       "4999    1.298950e+06\n",
       "Name: Price, Length: 5000, dtype: float64"
      ]
     },
     "execution_count": 12,
     "metadata": {},
     "output_type": "execute_result"
    }
   ],
   "source": [
    "target"
   ]
  },
  {
   "cell_type": "code",
   "execution_count": 46,
   "id": "7d11e655",
   "metadata": {},
   "outputs": [
    {
     "data": {
      "image/png": "[encoded data removed]",
      "text/plain": [
       "<Figure size 720x720 with 1 Axes>"
      ]
     },
     "metadata": {
      "needs_background": "light"
     },
     "output_type": "display_data"
    }
   ],
   "source": [
    "plt.figure(figsize=(10,10))\n",
    "sns.boxplot(data = features, x=target,y = \"Avg. Area Income\")\n",
    "plt.grid()"
   ]
  },
  {
   "cell_type": "code",
   "execution_count": 17,
   "id": "7cfaae74",
   "metadata": {},
   "outputs": [],
   "source": [
    "from scipy.stats import skew"
   ]
  },
  {
   "cell_type": "code",
   "execution_count": 19,
   "id": "40b9c5bf",
   "metadata": {},
   "outputs": [],
   "source": [
    "colname = features.select_dtypes([\"int64\",\"float64\"]).columns"
   ]
  },
  {
   "cell_type": "code",
   "execution_count": 20,
   "id": "03166413",
   "metadata": {},
   "outputs": [
    {
     "name": "stdout",
     "output_type": "stream",
     "text": [
      "Avg. Area Income\n",
      "-0.03370985856853668\n"
     ]
    },
    {
     "data": {
      "image/png": "[encoded data removed]",
      "text/plain": [
       "<Figure size 432x288 with 1 Axes>"
      ]
     },
     "metadata": {
      "needs_background": "light"
     },
     "output_type": "display_data"
    },
    {
     "name": "stdout",
     "output_type": "stream",
     "text": [
      "Avg. Area House Age\n",
      "-0.007211708023735578\n"
     ]
    },
    {
     "data": {
      "image/png": "[encoded data removed]",
      "text/plain": [
       "<Figure size 432x288 with 1 Axes>"
      ]
     },
     "metadata": {
      "needs_background": "light"
     },
     "output_type": "display_data"
    },
    {
     "name": "stdout",
     "output_type": "stream",
     "text": [
      "Avg. Area Number of Rooms\n",
      "-0.040983610381965664\n"
     ]
    },
    {
     "data": {
      "image/png": "[encoded data removed]",
      "text/plain": [
       "<Figure size 432x288 with 1 Axes>"
      ]
     },
     "metadata": {
      "needs_background": "light"
     },
     "output_type": "display_data"
    },
    {
     "name": "stdout",
     "output_type": "stream",
     "text": [
      "Avg. Area Number of Bedrooms\n",
      "0.37612751568905145\n"
     ]
    },
    {
     "data": {
      "image/png": "[encoded data removed]",
      "text/plain": [
       "<Figure size 432x288 with 1 Axes>"
      ]
     },
     "metadata": {
      "needs_background": "light"
     },
     "output_type": "display_data"
    },
    {
     "name": "stdout",
     "output_type": "stream",
     "text": [
      "Area Population\n",
      "0.05063448536127159\n"
     ]
    },
    {
     "data": {
      "image/png": "[encoded data removed]",
      "text/plain": [
       "<Figure size 432x288 with 1 Axes>"
      ]
     },
     "metadata": {
      "needs_background": "light"
     },
     "output_type": "display_data"
    }
   ],
   "source": [
    "for i in features[colname]:\n",
    "    print(i)\n",
    "    print(skew(features[i]))\n",
    "    plt.figure()\n",
    "    sns.distplot(features[i])\n",
    "    plt.show()"
   ]
  },
  {
   "cell_type": "code",
   "execution_count": 21,
   "id": "ad21eb37",
   "metadata": {},
   "outputs": [
    {
     "data": {
      "text/html": [
       "<style type=\"text/css\">\n",
       "#T_8c022_row0_col0, #T_8c022_row1_col1, #T_8c022_row2_col2, #T_8c022_row3_col3, #T_8c022_row4_col4, #T_8c022_row5_col5 {\n",
       "  background-color: #023858;\n",
       "  color: #f1f1f1;\n",
       "}\n",
       "#T_8c022_row0_col1, #T_8c022_row1_col0, #T_8c022_row4_col2 {\n",
       "  background-color: #fdf5fa;\n",
       "  color: #000000;\n",
       "}\n",
       "#T_8c022_row0_col2, #T_8c022_row1_col2, #T_8c022_row1_col4, #T_8c022_row3_col4, #T_8c022_row3_col5, #T_8c022_row4_col0, #T_8c022_row4_col1, #T_8c022_row4_col3 {\n",
       "  background-color: #fff7fb;\n",
       "  color: #000000;\n",
       "}\n",
       "#T_8c022_row0_col3 {\n",
       "  background-color: #f9f2f8;\n",
       "  color: #000000;\n",
       "}\n",
       "#T_8c022_row0_col4, #T_8c022_row2_col0 {\n",
       "  background-color: #fef6fb;\n",
       "  color: #000000;\n",
       "}\n",
       "#T_8c022_row0_col5 {\n",
       "  background-color: #549cc7;\n",
       "  color: #f1f1f1;\n",
       "}\n",
       "#T_8c022_row1_col3 {\n",
       "  background-color: #fbf3f9;\n",
       "  color: #000000;\n",
       "}\n",
       "#T_8c022_row1_col5 {\n",
       "  background-color: #b3c3de;\n",
       "  color: #000000;\n",
       "}\n",
       "#T_8c022_row2_col1 {\n",
       "  background-color: #fef6fa;\n",
       "  color: #000000;\n",
       "}\n",
       "#T_8c022_row2_col3 {\n",
       "  background-color: #7eadd1;\n",
       "  color: #f1f1f1;\n",
       "}\n",
       "#T_8c022_row2_col4, #T_8c022_row3_col1 {\n",
       "  background-color: #fbf4f9;\n",
       "  color: #000000;\n",
       "}\n",
       "#T_8c022_row2_col5 {\n",
       "  background-color: #dcdaeb;\n",
       "  color: #000000;\n",
       "}\n",
       "#T_8c022_row3_col0 {\n",
       "  background-color: #faf2f8;\n",
       "  color: #000000;\n",
       "}\n",
       "#T_8c022_row3_col2 {\n",
       "  background-color: #81aed2;\n",
       "  color: #f1f1f1;\n",
       "}\n",
       "#T_8c022_row4_col5 {\n",
       "  background-color: #c4cbe3;\n",
       "  color: #000000;\n",
       "}\n",
       "#T_8c022_row5_col0 {\n",
       "  background-color: #2d8abd;\n",
       "  color: #f1f1f1;\n",
       "}\n",
       "#T_8c022_row5_col1 {\n",
       "  background-color: #83afd3;\n",
       "  color: #f1f1f1;\n",
       "}\n",
       "#T_8c022_row5_col2 {\n",
       "  background-color: #b1c2de;\n",
       "  color: #000000;\n",
       "}\n",
       "#T_8c022_row5_col3 {\n",
       "  background-color: #dedcec;\n",
       "  color: #000000;\n",
       "}\n",
       "#T_8c022_row5_col4 {\n",
       "  background-color: #94b6d7;\n",
       "  color: #000000;\n",
       "}\n",
       "</style>\n",
       "<table id=\"T_8c022_\">\n",
       "  <thead>\n",
       "    <tr>\n",
       "      <th class=\"blank level0\" >&nbsp;</th>\n",
       "      <th class=\"col_heading level0 col0\" >Avg. Area Income</th>\n",
       "      <th class=\"col_heading level0 col1\" >Avg. Area House Age</th>\n",
       "      <th class=\"col_heading level0 col2\" >Avg. Area Number of Rooms</th>\n",
       "      <th class=\"col_heading level0 col3\" >Avg. Area Number of Bedrooms</th>\n",
       "      <th class=\"col_heading level0 col4\" >Area Population</th>\n",
       "      <th class=\"col_heading level0 col5\" >Price</th>\n",
       "    </tr>\n",
       "  </thead>\n",
       "  <tbody>\n",
       "    <tr>\n",
       "      <th id=\"T_8c022_level0_row0\" class=\"row_heading level0 row0\" >Avg. Area Income</th>\n",
       "      <td id=\"T_8c022_row0_col0\" class=\"data row0 col0\" >1.000000</td>\n",
       "      <td id=\"T_8c022_row0_col1\" class=\"data row0 col1\" >-0.002007</td>\n",
       "      <td id=\"T_8c022_row0_col2\" class=\"data row0 col2\" >-0.011032</td>\n",
       "      <td id=\"T_8c022_row0_col3\" class=\"data row0 col3\" >0.019788</td>\n",
       "      <td id=\"T_8c022_row0_col4\" class=\"data row0 col4\" >-0.016234</td>\n",
       "      <td id=\"T_8c022_row0_col5\" class=\"data row0 col5\" >0.639734</td>\n",
       "    </tr>\n",
       "    <tr>\n",
       "      <th id=\"T_8c022_level0_row1\" class=\"row_heading level0 row1\" >Avg. Area House Age</th>\n",
       "      <td id=\"T_8c022_row1_col0\" class=\"data row1 col0\" >-0.002007</td>\n",
       "      <td id=\"T_8c022_row1_col1\" class=\"data row1 col1\" >1.000000</td>\n",
       "      <td id=\"T_8c022_row1_col2\" class=\"data row1 col2\" >-0.009428</td>\n",
       "      <td id=\"T_8c022_row1_col3\" class=\"data row1 col3\" >0.006149</td>\n",
       "      <td id=\"T_8c022_row1_col4\" class=\"data row1 col4\" >-0.018743</td>\n",
       "      <td id=\"T_8c022_row1_col5\" class=\"data row1 col5\" >0.452543</td>\n",
       "    </tr>\n",
       "    <tr>\n",
       "      <th id=\"T_8c022_level0_row2\" class=\"row_heading level0 row2\" >Avg. Area Number of Rooms</th>\n",
       "      <td id=\"T_8c022_row2_col0\" class=\"data row2 col0\" >-0.011032</td>\n",
       "      <td id=\"T_8c022_row2_col1\" class=\"data row2 col1\" >-0.009428</td>\n",
       "      <td id=\"T_8c022_row2_col2\" class=\"data row2 col2\" >1.000000</td>\n",
       "      <td id=\"T_8c022_row2_col3\" class=\"data row2 col3\" >0.462695</td>\n",
       "      <td id=\"T_8c022_row2_col4\" class=\"data row2 col4\" >0.002040</td>\n",
       "      <td id=\"T_8c022_row2_col5\" class=\"data row2 col5\" >0.335664</td>\n",
       "    </tr>\n",
       "    <tr>\n",
       "      <th id=\"T_8c022_level0_row3\" class=\"row_heading level0 row3\" >Avg. Area Number of Bedrooms</th>\n",
       "      <td id=\"T_8c022_row3_col0\" class=\"data row3 col0\" >0.019788</td>\n",
       "      <td id=\"T_8c022_row3_col1\" class=\"data row3 col1\" >0.006149</td>\n",
       "      <td id=\"T_8c022_row3_col2\" class=\"data row3 col2\" >0.462695</td>\n",
       "      <td id=\"T_8c022_row3_col3\" class=\"data row3 col3\" >1.000000</td>\n",
       "      <td id=\"T_8c022_row3_col4\" class=\"data row3 col4\" >-0.022168</td>\n",
       "      <td id=\"T_8c022_row3_col5\" class=\"data row3 col5\" >0.171071</td>\n",
       "    </tr>\n",
       "    <tr>\n",
       "      <th id=\"T_8c022_level0_row4\" class=\"row_heading level0 row4\" >Area Population</th>\n",
       "      <td id=\"T_8c022_row4_col0\" class=\"data row4 col0\" >-0.016234</td>\n",
       "      <td id=\"T_8c022_row4_col1\" class=\"data row4 col1\" >-0.018743</td>\n",
       "      <td id=\"T_8c022_row4_col2\" class=\"data row4 col2\" >0.002040</td>\n",
       "      <td id=\"T_8c022_row4_col3\" class=\"data row4 col3\" >-0.022168</td>\n",
       "      <td id=\"T_8c022_row4_col4\" class=\"data row4 col4\" >1.000000</td>\n",
       "      <td id=\"T_8c022_row4_col5\" class=\"data row4 col5\" >0.408556</td>\n",
       "    </tr>\n",
       "    <tr>\n",
       "      <th id=\"T_8c022_level0_row5\" class=\"row_heading level0 row5\" >Price</th>\n",
       "      <td id=\"T_8c022_row5_col0\" class=\"data row5 col0\" >0.639734</td>\n",
       "      <td id=\"T_8c022_row5_col1\" class=\"data row5 col1\" >0.452543</td>\n",
       "      <td id=\"T_8c022_row5_col2\" class=\"data row5 col2\" >0.335664</td>\n",
       "      <td id=\"T_8c022_row5_col3\" class=\"data row5 col3\" >0.171071</td>\n",
       "      <td id=\"T_8c022_row5_col4\" class=\"data row5 col4\" >0.408556</td>\n",
       "      <td id=\"T_8c022_row5_col5\" class=\"data row5 col5\" >1.000000</td>\n",
       "    </tr>\n",
       "  </tbody>\n",
       "</table>\n"
      ],
      "text/plain": [
       "<pandas.io.formats.style.Styler at 0x28082ff20a0>"
      ]
     },
     "execution_count": 21,
     "metadata": {},
     "output_type": "execute_result"
    }
   ],
   "source": [
    "pd.concat([features,target],axis=1).corr().style.background_gradient()"
   ]
  },
  {
   "cell_type": "code",
   "execution_count": 22,
   "id": "42808a0e",
   "metadata": {},
   "outputs": [],
   "source": [
    "from sklearn. model_selection import train_test_split"
   ]
  },
  {
   "cell_type": "code",
   "execution_count": 24,
   "id": "7a528055",
   "metadata": {},
   "outputs": [],
   "source": [
    "xtrain,xtest,ytrain,ytest = train_test_split(features,target,test_size = 0.3,random_state = 1)"
   ]
  },
  {
   "cell_type": "code",
   "execution_count": 25,
   "id": "a8c6f093",
   "metadata": {},
   "outputs": [
    {
     "data": {
      "text/html": [
       "<div>\n",
       "<style scoped>\n",
       "    .dataframe tbody tr th:only-of-type {\n",
       "        vertical-align: middle;\n",
       "    }\n",
       "\n",
       "    .dataframe tbody tr th {\n",
       "        vertical-align: top;\n",
       "    }\n",
       "\n",
       "    .dataframe thead th {\n",
       "        text-align: right;\n",
       "    }\n",
       "</style>\n",
       "<table border=\"1\" class=\"dataframe\">\n",
       "  <thead>\n",
       "    <tr style=\"text-align: right;\">\n",
       "      <th></th>\n",
       "      <th>Avg. Area Income</th>\n",
       "      <th>Avg. Area House Age</th>\n",
       "      <th>Avg. Area Number of Rooms</th>\n",
       "      <th>Avg. Area Number of Bedrooms</th>\n",
       "      <th>Area Population</th>\n",
       "    </tr>\n",
       "  </thead>\n",
       "  <tbody>\n",
       "    <tr>\n",
       "      <th>1334</th>\n",
       "      <td>59481.782006</td>\n",
       "      <td>4.776719</td>\n",
       "      <td>7.545438</td>\n",
       "      <td>4.31</td>\n",
       "      <td>31200.967833</td>\n",
       "    </tr>\n",
       "    <tr>\n",
       "      <th>4768</th>\n",
       "      <td>71663.056200</td>\n",
       "      <td>4.911607</td>\n",
       "      <td>7.211583</td>\n",
       "      <td>5.00</td>\n",
       "      <td>39241.820366</td>\n",
       "    </tr>\n",
       "    <tr>\n",
       "      <th>65</th>\n",
       "      <td>56547.507187</td>\n",
       "      <td>5.435415</td>\n",
       "      <td>6.515150</td>\n",
       "      <td>3.13</td>\n",
       "      <td>37585.274576</td>\n",
       "    </tr>\n",
       "    <tr>\n",
       "      <th>177</th>\n",
       "      <td>59513.834920</td>\n",
       "      <td>4.885132</td>\n",
       "      <td>5.574714</td>\n",
       "      <td>3.18</td>\n",
       "      <td>44162.279205</td>\n",
       "    </tr>\n",
       "    <tr>\n",
       "      <th>4489</th>\n",
       "      <td>63753.864240</td>\n",
       "      <td>8.112336</td>\n",
       "      <td>7.694745</td>\n",
       "      <td>6.35</td>\n",
       "      <td>31347.689784</td>\n",
       "    </tr>\n",
       "    <tr>\n",
       "      <th>...</th>\n",
       "      <td>...</td>\n",
       "      <td>...</td>\n",
       "      <td>...</td>\n",
       "      <td>...</td>\n",
       "      <td>...</td>\n",
       "    </tr>\n",
       "    <tr>\n",
       "      <th>2895</th>\n",
       "      <td>56734.350763</td>\n",
       "      <td>6.159101</td>\n",
       "      <td>8.280404</td>\n",
       "      <td>4.30</td>\n",
       "      <td>27982.271707</td>\n",
       "    </tr>\n",
       "    <tr>\n",
       "      <th>2763</th>\n",
       "      <td>50212.439535</td>\n",
       "      <td>6.645207</td>\n",
       "      <td>7.404114</td>\n",
       "      <td>5.44</td>\n",
       "      <td>20913.655444</td>\n",
       "    </tr>\n",
       "    <tr>\n",
       "      <th>905</th>\n",
       "      <td>80011.583519</td>\n",
       "      <td>6.448675</td>\n",
       "      <td>6.489268</td>\n",
       "      <td>2.49</td>\n",
       "      <td>26576.391994</td>\n",
       "    </tr>\n",
       "    <tr>\n",
       "      <th>3980</th>\n",
       "      <td>72899.658203</td>\n",
       "      <td>5.222040</td>\n",
       "      <td>6.861010</td>\n",
       "      <td>4.21</td>\n",
       "      <td>39311.147543</td>\n",
       "    </tr>\n",
       "    <tr>\n",
       "      <th>235</th>\n",
       "      <td>67056.840480</td>\n",
       "      <td>5.222169</td>\n",
       "      <td>7.163518</td>\n",
       "      <td>5.25</td>\n",
       "      <td>25134.681485</td>\n",
       "    </tr>\n",
       "  </tbody>\n",
       "</table>\n",
       "<p>3500 rows × 5 columns</p>\n",
       "</div>"
      ],
      "text/plain": [
       "      Avg. Area Income  Avg. Area House Age  Avg. Area Number of Rooms  \\\n",
       "1334      59481.782006             4.776719                   7.545438   \n",
       "4768      71663.056200             4.911607                   7.211583   \n",
       "65        56547.507187             5.435415                   6.515150   \n",
       "177       59513.834920             4.885132                   5.574714   \n",
       "4489      63753.864240             8.112336                   7.694745   \n",
       "...                ...                  ...                        ...   \n",
       "2895      56734.350763             6.159101                   8.280404   \n",
       "2763      50212.439535             6.645207                   7.404114   \n",
       "905       80011.583519             6.448675                   6.489268   \n",
       "3980      72899.658203             5.222040                   6.861010   \n",
       "235       67056.840480             5.222169                   7.163518   \n",
       "\n",
       "      Avg. Area Number of Bedrooms  Area Population  \n",
       "1334                          4.31     31200.967833  \n",
       "4768                          5.00     39241.820366  \n",
       "65                            3.13     37585.274576  \n",
       "177                           3.18     44162.279205  \n",
       "4489                          6.35     31347.689784  \n",
       "...                            ...              ...  \n",
       "2895                          4.30     27982.271707  \n",
       "2763                          5.44     20913.655444  \n",
       "905                           2.49     26576.391994  \n",
       "3980                          4.21     39311.147543  \n",
       "235                           5.25     25134.681485  \n",
       "\n",
       "[3500 rows x 5 columns]"
      ]
     },
     "execution_count": 25,
     "metadata": {},
     "output_type": "execute_result"
    }
   ],
   "source": [
    "xtrain"
   ]
  },
  {
   "cell_type": "code",
   "execution_count": 26,
   "id": "0d8b598a",
   "metadata": {},
   "outputs": [
    {
     "data": {
      "text/html": [
       "<div>\n",
       "<style scoped>\n",
       "    .dataframe tbody tr th:only-of-type {\n",
       "        vertical-align: middle;\n",
       "    }\n",
       "\n",
       "    .dataframe tbody tr th {\n",
       "        vertical-align: top;\n",
       "    }\n",
       "\n",
       "    .dataframe thead th {\n",
       "        text-align: right;\n",
       "    }\n",
       "</style>\n",
       "<table border=\"1\" class=\"dataframe\">\n",
       "  <thead>\n",
       "    <tr style=\"text-align: right;\">\n",
       "      <th></th>\n",
       "      <th>Avg. Area Income</th>\n",
       "      <th>Avg. Area House Age</th>\n",
       "      <th>Avg. Area Number of Rooms</th>\n",
       "      <th>Avg. Area Number of Bedrooms</th>\n",
       "      <th>Area Population</th>\n",
       "    </tr>\n",
       "  </thead>\n",
       "  <tbody>\n",
       "    <tr>\n",
       "      <th>2764</th>\n",
       "      <td>75012.341660</td>\n",
       "      <td>6.742828</td>\n",
       "      <td>6.604335</td>\n",
       "      <td>4.10</td>\n",
       "      <td>42877.424147</td>\n",
       "    </tr>\n",
       "    <tr>\n",
       "      <th>4767</th>\n",
       "      <td>76187.273309</td>\n",
       "      <td>6.156222</td>\n",
       "      <td>7.166149</td>\n",
       "      <td>3.32</td>\n",
       "      <td>45084.394236</td>\n",
       "    </tr>\n",
       "    <tr>\n",
       "      <th>3814</th>\n",
       "      <td>67622.219611</td>\n",
       "      <td>5.813928</td>\n",
       "      <td>5.071112</td>\n",
       "      <td>4.16</td>\n",
       "      <td>35359.848465</td>\n",
       "    </tr>\n",
       "    <tr>\n",
       "      <th>3499</th>\n",
       "      <td>66933.165273</td>\n",
       "      <td>4.748787</td>\n",
       "      <td>5.879803</td>\n",
       "      <td>2.09</td>\n",
       "      <td>41834.042941</td>\n",
       "    </tr>\n",
       "    <tr>\n",
       "      <th>2735</th>\n",
       "      <td>65192.105635</td>\n",
       "      <td>6.275509</td>\n",
       "      <td>8.017889</td>\n",
       "      <td>4.47</td>\n",
       "      <td>26228.394577</td>\n",
       "    </tr>\n",
       "    <tr>\n",
       "      <th>...</th>\n",
       "      <td>...</td>\n",
       "      <td>...</td>\n",
       "      <td>...</td>\n",
       "      <td>...</td>\n",
       "      <td>...</td>\n",
       "    </tr>\n",
       "    <tr>\n",
       "      <th>4140</th>\n",
       "      <td>60798.203100</td>\n",
       "      <td>5.014685</td>\n",
       "      <td>7.141282</td>\n",
       "      <td>3.40</td>\n",
       "      <td>43682.094231</td>\n",
       "    </tr>\n",
       "    <tr>\n",
       "      <th>3969</th>\n",
       "      <td>72405.650031</td>\n",
       "      <td>4.450607</td>\n",
       "      <td>5.734957</td>\n",
       "      <td>2.40</td>\n",
       "      <td>32748.786504</td>\n",
       "    </tr>\n",
       "    <tr>\n",
       "      <th>2535</th>\n",
       "      <td>67389.904816</td>\n",
       "      <td>6.269637</td>\n",
       "      <td>5.908485</td>\n",
       "      <td>2.35</td>\n",
       "      <td>34710.206124</td>\n",
       "    </tr>\n",
       "    <tr>\n",
       "      <th>1361</th>\n",
       "      <td>55621.899104</td>\n",
       "      <td>3.735942</td>\n",
       "      <td>6.868291</td>\n",
       "      <td>2.30</td>\n",
       "      <td>63184.613147</td>\n",
       "    </tr>\n",
       "    <tr>\n",
       "      <th>1458</th>\n",
       "      <td>75985.804718</td>\n",
       "      <td>6.439203</td>\n",
       "      <td>7.385555</td>\n",
       "      <td>5.34</td>\n",
       "      <td>50003.086586</td>\n",
       "    </tr>\n",
       "  </tbody>\n",
       "</table>\n",
       "<p>1500 rows × 5 columns</p>\n",
       "</div>"
      ],
      "text/plain": [
       "      Avg. Area Income  Avg. Area House Age  Avg. Area Number of Rooms  \\\n",
       "2764      75012.341660             6.742828                   6.604335   \n",
       "4767      76187.273309             6.156222                   7.166149   \n",
       "3814      67622.219611             5.813928                   5.071112   \n",
       "3499      66933.165273             4.748787                   5.879803   \n",
       "2735      65192.105635             6.275509                   8.017889   \n",
       "...                ...                  ...                        ...   \n",
       "4140      60798.203100             5.014685                   7.141282   \n",
       "3969      72405.650031             4.450607                   5.734957   \n",
       "2535      67389.904816             6.269637                   5.908485   \n",
       "1361      55621.899104             3.735942                   6.868291   \n",
       "1458      75985.804718             6.439203                   7.385555   \n",
       "\n",
       "      Avg. Area Number of Bedrooms  Area Population  \n",
       "2764                          4.10     42877.424147  \n",
       "4767                          3.32     45084.394236  \n",
       "3814                          4.16     35359.848465  \n",
       "3499                          2.09     41834.042941  \n",
       "2735                          4.47     26228.394577  \n",
       "...                            ...              ...  \n",
       "4140                          3.40     43682.094231  \n",
       "3969                          2.40     32748.786504  \n",
       "2535                          2.35     34710.206124  \n",
       "1361                          2.30     63184.613147  \n",
       "1458                          5.34     50003.086586  \n",
       "\n",
       "[1500 rows x 5 columns]"
      ]
     },
     "execution_count": 26,
     "metadata": {},
     "output_type": "execute_result"
    }
   ],
   "source": [
    "xtest"
   ]
  },
  {
   "cell_type": "code",
   "execution_count": 27,
   "id": "3a95f51f",
   "metadata": {},
   "outputs": [
    {
     "data": {
      "text/plain": [
       "1334    9.861132e+05\n",
       "4768    1.228532e+06\n",
       "65      8.586856e+05\n",
       "177     8.942920e+05\n",
       "4489    1.558572e+06\n",
       "            ...     \n",
       "2895    1.063206e+06\n",
       "2763    8.732420e+05\n",
       "905     1.345963e+06\n",
       "3980    1.270928e+06\n",
       "235     1.039107e+06\n",
       "Name: Price, Length: 3500, dtype: float64"
      ]
     },
     "execution_count": 27,
     "metadata": {},
     "output_type": "execute_result"
    }
   ],
   "source": [
    "ytrain"
   ]
  },
  {
   "cell_type": "code",
   "execution_count": 28,
   "id": "e13f0b45",
   "metadata": {},
   "outputs": [
    {
     "data": {
      "text/plain": [
       "2764    1.413580e+06\n",
       "4767    1.618721e+06\n",
       "3814    8.413925e+05\n",
       "3499    8.814439e+05\n",
       "2735    1.174748e+06\n",
       "            ...     \n",
       "4140    9.391390e+05\n",
       "3969    7.181870e+05\n",
       "2535    1.109640e+06\n",
       "1361    1.102641e+06\n",
       "1458    1.591235e+06\n",
       "Name: Price, Length: 1500, dtype: float64"
      ]
     },
     "execution_count": 28,
     "metadata": {},
     "output_type": "execute_result"
    }
   ],
   "source": [
    "ytest"
   ]
  },
  {
   "cell_type": "code",
   "execution_count": 29,
   "id": "03cd380b",
   "metadata": {},
   "outputs": [],
   "source": [
    "from sklearn.linear_model import LinearRegression"
   ]
  },
  {
   "cell_type": "code",
   "execution_count": 30,
   "id": "63ace674",
   "metadata": {},
   "outputs": [],
   "source": [
    "lr = LinearRegression()\n"
   ]
  },
  {
   "cell_type": "code",
   "execution_count": 31,
   "id": "e7495801",
   "metadata": {},
   "outputs": [
    {
     "data": {
      "text/plain": [
       "LinearRegression()"
      ]
     },
     "execution_count": 31,
     "metadata": {},
     "output_type": "execute_result"
    }
   ],
   "source": [
    "lr.fit(xtrain,ytrain)"
   ]
  },
  {
   "cell_type": "code",
   "execution_count": 33,
   "id": "148e3ea8",
   "metadata": {},
   "outputs": [],
   "source": [
    "ypred = lr.predict(xtest)"
   ]
  },
  {
   "cell_type": "code",
   "execution_count": 34,
   "id": "ce3d8ceb",
   "metadata": {},
   "outputs": [
    {
     "data": {
      "text/plain": [
       "array([1555151.93144969, 1583399.08583432,  941481.35482434, ...,\n",
       "       1099846.27252109,  974837.76044627, 1731306.80613941])"
      ]
     },
     "execution_count": 34,
     "metadata": {},
     "output_type": "execute_result"
    }
   ],
   "source": [
    "ypred"
   ]
  },
  {
   "cell_type": "code",
   "execution_count": 35,
   "id": "db28d958",
   "metadata": {},
   "outputs": [
    {
     "data": {
      "text/plain": [
       "array([2.16398550e+01, 1.65729214e+05, 1.20958349e+05, 1.94909254e+03,\n",
       "       1.52262240e+01])"
      ]
     },
     "execution_count": 35,
     "metadata": {},
     "output_type": "execute_result"
    }
   ],
   "source": [
    "lr.coef_"
   ]
  },
  {
   "cell_type": "code",
   "execution_count": 36,
   "id": "f668fad9",
   "metadata": {},
   "outputs": [
    {
     "data": {
      "text/plain": [
       "-2645289.864343671"
      ]
     },
     "execution_count": 36,
     "metadata": {},
     "output_type": "execute_result"
    }
   ],
   "source": [
    "lr.intercept_"
   ]
  },
  {
   "cell_type": "code",
   "execution_count": 37,
   "id": "532ca70b",
   "metadata": {},
   "outputs": [
    {
     "data": {
      "text/plain": [
       "<matplotlib.collections.PathCollection at 0x280826452e0>"
      ]
     },
     "execution_count": 37,
     "metadata": {},
     "output_type": "execute_result"
    },
    {
     "data": {
      "image/png": "[encoded data removed]",
      "text/plain": [
       "<Figure size 432x288 with 1 Axes>"
      ]
     },
     "metadata": {
      "needs_background": "light"
     },
     "output_type": "display_data"
    }
   ],
   "source": [
    "plt.scatter(ytest,ypred)"
   ]
  },
  {
   "cell_type": "code",
   "execution_count": 38,
   "id": "f23396f3",
   "metadata": {},
   "outputs": [
    {
     "data": {
      "text/plain": [
       "<seaborn.axisgrid.FacetGrid at 0x2809fea32e0>"
      ]
     },
     "execution_count": 38,
     "metadata": {},
     "output_type": "execute_result"
    },
    {
     "data": {
      "image/png": "[encoded data removed]",
      "text/plain": [
       "<Figure size 360x360 with 1 Axes>"
      ]
     },
     "metadata": {
      "needs_background": "light"
     },
     "output_type": "display_data"
    }
   ],
   "source": [
    "sns.displot(ytest-ypred)"
   ]
  },
  {
   "cell_type": "code",
   "execution_count": 39,
   "id": "077df24e",
   "metadata": {},
   "outputs": [],
   "source": [
    "from sklearn.metrics import mean_absolute_error,mean_squared_error,r2_score"
   ]
  },
  {
   "cell_type": "code",
   "execution_count": 40,
   "id": "2c66fb4d",
   "metadata": {},
   "outputs": [],
   "source": [
    "mae = mean_absolute_error(ytest,ypred)"
   ]
  },
  {
   "cell_type": "code",
   "execution_count": 41,
   "id": "6ff631ca",
   "metadata": {},
   "outputs": [],
   "source": [
    "mse = mean_squared_error(ytest,ypred)"
   ]
  },
  {
   "cell_type": "code",
   "execution_count": 42,
   "id": "eca704ce",
   "metadata": {},
   "outputs": [],
   "source": [
    "rmse = np.sqrt(mse)"
   ]
  },
  {
   "cell_type": "code",
   "execution_count": 43,
   "id": "da90bdf4",
   "metadata": {},
   "outputs": [],
   "source": [
    "r2 = r2_score(ytest,ypred)"
   ]
  },
  {
   "cell_type": "code",
   "execution_count": 44,
   "id": "8af43d23",
   "metadata": {},
   "outputs": [
    {
     "data": {
      "text/plain": [
       "0.9166912271539742"
      ]
     },
     "execution_count": 44,
     "metadata": {},
     "output_type": "execute_result"
    }
   ],
   "source": [
    "r2"
   ]
  },
  {
   "cell_type": "code",
   "execution_count": 45,
   "id": "c3dcfc34",
   "metadata": {},
   "outputs": [
    {
     "name": "stdout",
     "output_type": "stream",
     "text": [
      "MAE:82745.90894156005\n",
      " MSE:10567448570.930979\n",
      " RMSE:102798.09614448596\n",
      " Accuracy:0.9166912271539742\n"
     ]
    }
   ],
   "source": [
    "print(f\"MAE:{mae}\\n MSE:{mse}\\n RMSE:{rmse}\\n Accuracy:{r2}\")"
   ]
  }
 ],
 "metadata": {
  "kernelspec": {
   "display_name": "Python 3 (ipykernel)",
   "language": "python",
   "name": "python3"
  },
  "language_info": {
   "codemirror_mode": {
    "name": "ipython",
    "version": 3
   },
   "file_extension": ".py",
   "mimetype": "text/x-python",
   "name": "python",
   "nbconvert_exporter": "python",
   "pygments_lexer": "ipython3",
   "version": "3.9.7"
  }
 },
 "nbformat": 4,
 "nbformat_minor": 5
}
